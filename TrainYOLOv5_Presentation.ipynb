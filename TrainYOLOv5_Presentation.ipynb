{
  "nbformat": 4,
  "nbformat_minor": 0,
  "metadata": {
    "colab": {
      "private_outputs": true,
      "provenance": [],
      "gpuType": "T4"
    },
    "kernelspec": {
      "display_name": "Python 3",
      "name": "python3"
    },
    "accelerator": "GPU"
  },
  "cells": [
    {
      "cell_type": "markdown",
      "metadata": {
        "id": "7mGmQbAO5pQb"
      },
      "source": [
        "#1.Setup - Clone Repo\n",
        "Clone repo, install dependencies and check PyTorch and GPU."
      ]
    },
    {
      "cell_type": "code",
      "metadata": {
        "id": "wbvMlHd_QwMG"
      },
      "source": [
        "import os\n",
        "%cd /content\n",
        "\n",
        "!git clone https://github.com/ultralytics/yolov5  # clone repo\n",
        "%cd yolov5\n",
        "%pip install -qr requirements.txt  # install dependencies\n",
        "\n",
        "import torch\n",
        "from IPython.display import Image, clear_output  # to display images\n",
        "\n",
        "clear_output()\n",
        "print(f\"Setup complete. Using torch {torch.__version__} ({torch.cuda.get_device_properties(0).name if torch.cuda.is_available() else 'CPU'})\")"
      ],
      "execution_count": null,
      "outputs": []
    },
    {
      "cell_type": "markdown",
      "source": [
        "##Load dataset from Roboflow (Export it using YOLOv5 Pytorch Format)"
      ],
      "metadata": {
        "id": "vTmmquSQ0gyI"
      }
    },
    {
      "cell_type": "code",
      "source": [
        "### load dataset\n",
        "!curl -L \"https://public.roboflow.com/ds/QNtFqEfj6m?key=Jrb6UojIIh\" > roboflow.zip; unzip roboflow.zip; rm roboflow.zip"
      ],
      "metadata": {
        "id": "kfX1us-k7gpM"
      },
      "execution_count": null,
      "outputs": []
    },
    {
      "cell_type": "markdown",
      "source": [
        "##Run it to customize files"
      ],
      "metadata": {
        "id": "5yKEyBffY0xK"
      }
    },
    {
      "cell_type": "code",
      "source": [
        "#customize iPython writefile so you can write variables\n",
        "from IPython.core.magic import register_line_cell_magic\n",
        "\n",
        "@register_line_cell_magic\n",
        "def writetemplate(line, cell):\n",
        "    with open(line, 'w') as f:\n",
        "        f.write(cell.format(**globals()))"
      ],
      "metadata": {
        "id": "d596GzNSZJlB"
      },
      "execution_count": null,
      "outputs": []
    },
    {
      "cell_type": "markdown",
      "source": [
        "#Image Visualisation"
      ],
      "metadata": {
        "id": "WSnVxWr30qWM"
      }
    },
    {
      "cell_type": "code",
      "source": [
        "def get_all_images(folder, ext):\n",
        "\n",
        "    all_files = []\n",
        "    #Iterate through all files in folder\n",
        "    for file in os.listdir(folder):\n",
        "        #Get the file extension\n",
        "        _,  file_ext = os.path.splitext(file)\n",
        "\n",
        "        #If file is of given extension, get it's full path and append to list\n",
        "        if ext in file_ext:\n",
        "            full_file_path = os.path.join(folder, file)\n",
        "            all_files.append(full_file_path)\n",
        "\n",
        "    #Get list of all files\n",
        "    return all_files\n",
        "\n",
        "data_path = \"/content/yolov5/valid/images\"\n",
        "\n",
        "#List of all jps and tif files\n",
        "files = get_all_images(data_path, 'jpg')\n",
        "print(len(files))\n"
      ],
      "metadata": {
        "id": "K6SK9xFRg1u9"
      },
      "execution_count": null,
      "outputs": []
    },
    {
      "cell_type": "code",
      "source": [
        "from google.colab.patches import cv2_imshow\n",
        "import numpy as np\n",
        "import cv2\n",
        "for img in files:\n",
        " image = cv2.imread(img)\n",
        " image = image.astype(\"float32\")\n",
        " #image = np.true_divide(image, 1, dtype=np.float16)\n",
        "#print(image.dtype)\n",
        "#print(image)\n",
        "cv2_imshow(image)"
      ],
      "metadata": {
        "id": "kDKYkbHVfzjk"
      },
      "execution_count": null,
      "outputs": []
    },
    {
      "cell_type": "markdown",
      "source": [
        "# Customize YAML file (This step is not needed if you use Roboflow to load the dataset)"
      ],
      "metadata": {
        "id": "yDD63E5nEdIy"
      }
    },
    {
      "cell_type": "markdown",
      "source": [
        "## Modify data file"
      ],
      "metadata": {
        "id": "BvEMFdUO07y9"
      }
    },
    {
      "cell_type": "code",
      "metadata": {
        "id": "5M_3reDjUZBs"
      },
      "source": [
        "%cat data.yaml\n",
        "# define number of classes based on YAML\n",
        "# data.yaml contains the information about number of classes and their labels required for this project\n",
        "import yaml\n",
        "with open(\"data.yaml\", 'r') as stream:\n",
        "    num_classes = str(yaml.safe_load(stream)['nc'])\n",
        "    #customize iPython writefile so we can write variables\n",
        "from IPython.core.magic import register_line_cell_magic\n",
        "\n",
        "@register_line_cell_magic\n",
        "def writetemplate(line, cell):\n",
        "    with open(line, 'w') as f:\n",
        "        f.write(cell.format(**globals()))\n"
      ],
      "execution_count": null,
      "outputs": []
    },
    {
      "cell_type": "markdown",
      "metadata": {
        "id": "-g6jZWbbfdm8"
      },
      "source": [
        "# Train\n",
        "\n",
        "Train a YOLOv5s model on your custom dataset by specifying:  batch-size = 32, image size = 320, epochs = 120 ( it depends on the dataset size) and either pretrained --weights yolov5s.pt (recommended), or randomly initialized --weights '' --cfg yolov5s.yaml (not recommended)."
      ]
    },
    {
      "cell_type": "markdown",
      "source": [
        "## Load Pre-trained weights (In case of using it instead of YAML file (yolov5s.yaml)"
      ],
      "metadata": {
        "id": "H_Y9Xa-52MMD"
      }
    },
    {
      "cell_type": "code",
      "source": [
        "!pwd\n",
        "%cd /content/yolov5\n",
        "!wget https://github.com/ultralytics/YOLOv5/releases/download/v6.1/yolov5s.pt"
      ],
      "metadata": {
        "id": "3YLoPGXWGonb"
      },
      "execution_count": null,
      "outputs": []
    },
    {
      "cell_type": "markdown",
      "source": [
        "## Start training"
      ],
      "metadata": {
        "id": "_HzSCIwQ2dVe"
      }
    },
    {
      "cell_type": "code",
      "source": [
        "%%time\n",
        "!python train.py --batch 16 --epochs 50 --data /content/yolov5/data.yaml  --weights '/content/yolov5/yolov5s.pt' --cache #--cfg /content/yolov5/models/yolov5s.yaml"
      ],
      "metadata": {
        "id": "rDMOgYzSMPSv"
      },
      "execution_count": null,
      "outputs": []
    },
    {
      "cell_type": "markdown",
      "source": [
        "## Validation & Model evaluation"
      ],
      "metadata": {
        "id": "7Z9L70LN2rZF"
      }
    },
    {
      "cell_type": "code",
      "source": [
        "!python val.py --weights /content/yolov5/runs/train/exp/weights/best.pt --data /content/yolov5/data.yaml"
      ],
      "metadata": {
        "id": "qpn0VdaO-xbt"
      },
      "execution_count": null,
      "outputs": []
    },
    {
      "cell_type": "markdown",
      "source": [
        "## Run detection on a testing image"
      ],
      "metadata": {
        "id": "fZxp0bVZ20Eb"
      }
    },
    {
      "cell_type": "code",
      "metadata": {
        "id": "9K_q8mJrdz9B"
      },
      "source": [
        "!python detect.py --weights /content/yolov5/runs/train/exp/weights/best.pt --source /content/yolov5/valid/images/IMG_8348_jpg.rf.f98cd0dfc3a2c7693b77fb490d1405d1.jpg"
      ],
      "execution_count": null,
      "outputs": []
    }
  ]
}